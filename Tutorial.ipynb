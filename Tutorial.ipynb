{
 "cells": [
  {
   "cell_type": "markdown",
   "metadata": {},
   "source": [
    "## Alternating Direction Method of Multipliers (ADMM)"
   ]
  },
  {
   "cell_type": "markdown",
   "metadata": {},
   "source": [
    "ADMM is applied to problems whose structure can be represented as a bipartite graph.\n",
    "\n",
    "A bipartite graph is a graph whose vertices (nodes) are divided into two disjoint sets. Edges only connect nodes from the opposite sets."
   ]
  },
  {
   "cell_type": "markdown",
   "metadata": {},
   "source": [
    "<img src=\"images/bigraph.png\" width=\"600\" height=\"600\" style=\"float: center\"/>"
   ]
  },
  {
   "cell_type": "markdown",
   "metadata": {},
   "source": [
    "#### Notation"
   ]
  },
  {
   "cell_type": "markdown",
   "metadata": {},
   "source": [
    "The bipartite graph representing the problem structure is referred to as computation graph. Each node in the graph is associated with a computing agent.  \n",
    "\n",
    "In the above graph\n",
    "1. Circles - nodes (agents) of type I\n",
    "2. Rectangles - nodes (agents) of type II"
   ]
  },
  {
   "cell_type": "markdown",
   "metadata": {},
   "source": [
    "ADMM solves the problem"
   ]
  },
  {
   "cell_type": "markdown",
   "metadata": {},
   "source": [
    "$\n",
    "    \\begin{aligned}\n",
    "    \\underset{x \\in \\Omega, z \\in \\Theta}{\\text{minimize}}\\quad & \\sum\\limits_{i} f_i(x_i) + \\sum\\limits_{i} g_i(z_i)\\\\\n",
    "    \\text{subject to}\\quad  & x_i = z_j\n",
    "    \\end{aligned}\n",
    "$"
   ]
  },
  {
   "cell_type": "markdown",
   "metadata": {},
   "source": [
    "where\\\n",
    "$x_i$ and $f_i(x_i)$ are variables and objective of *i*-th agent I\\\n",
    "$z_i$ and $g_i(z_i)$ are variables and objective of *i*-th agent II\n",
    "\n",
    "Shared variables represented by edges must meet the consensus constraint $x_i = z_j$"
   ]
  },
  {
   "cell_type": "markdown",
   "metadata": {},
   "source": [
    "The augmented Lagrangian function associated with the above problem"
   ]
  },
  {
   "cell_type": "markdown",
   "metadata": {},
   "source": [
    "$L(x,z,\\lambda) = \\sum\\limits_{i} f_i(x_i) + \\sum\\limits_{i} g_i(z_i) + \\frac{\\rho}{2} \\sum\\limits_{i} \\|x_i-z_i+u_i\\|_2^2$"
   ]
  },
  {
   "cell_type": "markdown",
   "metadata": {},
   "source": [
    "The Lagrangian function is solved applying the following steps"
   ]
  },
  {
   "cell_type": "markdown",
   "metadata": {},
   "source": [
    "__Step 1__ Type I agents solve their local subproblems"
   ]
  },
  {
   "cell_type": "markdown",
   "metadata": {},
   "source": [
    "$x_{i}^{(k+1)}  = \\text{argmin} \\; f_i(x_i) + \\frac{\\rho}{2} \\|x_i - (z_i^k - u_i^k)\\|_2^2$"
   ]
  },
  {
   "cell_type": "markdown",
   "metadata": {},
   "source": [
    "__Step 2__ Type II agents solve their local subproblems"
   ]
  },
  {
   "cell_type": "markdown",
   "metadata": {},
   "source": [
    "$ z_{i}^{(k+1)} = \\text{argmin} \\; g_i(z_i) + \\frac{\\rho}{2} \\|z_i - (x_i^{(k+1)} + u_i^k)\\|_2^2 $"
   ]
  },
  {
   "cell_type": "markdown",
   "metadata": {},
   "source": [
    "__Step 3__ Type II agents update dual variables"
   ]
  },
  {
   "cell_type": "markdown",
   "metadata": {},
   "source": [
    "$u_{i}^{(k+1)}  = u_i^k + (x_i^{(k+1)} - z_i^{(k+1)})$"
   ]
  },
  {
   "cell_type": "markdown",
   "metadata": {},
   "source": [
    "The above steps are repeated until convergence criteria are met. The convergence criteria are defined locally for primal and dual residuals."
   ]
  },
  {
   "cell_type": "markdown",
   "metadata": {},
   "source": [
    "$\n",
    "\\begin{equation}\n",
    "\\begin{aligned}\n",
    "r^{\\text{primal}} &<  \\epsilon^{\\text{primal}} \\\\\n",
    "r^{\\text{dual}} &<  \\epsilon^{\\text{dual}} \\\\\n",
    "\\end{aligned}\n",
    "\\end{equation}\n",
    "$"
   ]
  },
  {
   "cell_type": "markdown",
   "metadata": {},
   "source": [
    "where $\\epsilon^{\\text{primal}},\\epsilon^{\\text{dual}}$ are small positive numbers representing primal and dual tolerances, respectively. The primal and dual residuals are computed as"
   ]
  },
  {
   "cell_type": "markdown",
   "metadata": {},
   "source": [
    "$\n",
    "\\begin{equation}\n",
    "\\begin{aligned}\n",
    "r^{\\text{primal}} &= \\| x_i^k - z_i^k \\|_2 \\\\\n",
    "r^{\\text{dual}} &= \\| \\rho (z_i^k - z_i^{k-1}) \\| _2 \\\\\n",
    "\\end{aligned}\n",
    "\\end{equation}\n",
    "$"
   ]
  },
  {
   "cell_type": "markdown",
   "metadata": {},
   "source": [
    "## ADMM4J: Alternating Direction Method of Multipliers for Java"
   ]
  },
  {
   "cell_type": "markdown",
   "metadata": {},
   "source": [
    "The ADMM4J is an implementation of ADMM algorithms in Java. It is devised to be able to run in parallel and distributed settings and being applicable to a wide range of problems. \n",
    "\n",
    "Note: Currently, only parallel implementation is available. Distributed implementation could be available in future."
   ]
  },
  {
   "cell_type": "markdown",
   "metadata": {},
   "source": [
    "To use ADMM4J the following steps need to be performed:\n",
    "\n",
    "1. Devise a computation graph representing the problem as a bipartite graph\n",
    "2. Implement nodes as Java classes extending org.admm4j.core.Node\n",
    "3. Create the JSON input defining the graph\n",
    "4. Execute admm4j (in Java environment or through command line)"
   ]
  },
  {
   "cell_type": "markdown",
   "metadata": {},
   "source": [
    "At the heart there is a notion of node.\n",
    "\n",
    "The org.admm4j.core.Node.java is an abstract class representing a node in a bipartite graph.\\\n",
    "This class implements ADMM specific functionality through its local variables and methods. \n",
    "\n",
    "An application specific node can be implemented by extending org.admm4j.core.Node.java.\\\n",
    "A minimal implementation requires overriding the _solve_ method specifing how a local subproblem is solved (Step 1 or 2 depending on whether the node is of type I or II).\\\n",
    "A specific input to the node can provided overriding _build_ method. This method is called before the start of optimization.\\\n",
    "Overriding the methods _evalObjective_ and _evalConstraintViolation_ allows to output the values of objective function and constraint violation in the results. Though they are optional.\\\n",
    "Additionaly, any specific information about this node can be returned overriding the _getJsonInternal_ method."
   ]
  },
  {
   "cell_type": "markdown",
   "metadata": {},
   "source": [
    "## Interface\n",
    "\n",
    "The ADMM4J accepts input and returns output in the form of JSON objects.\n",
    "\n",
    "JSON format is used because:\n",
    "1. It has a well defined structured that is easy to understand.\n",
    "2. It provides a convenient way to address a broad range of problems with the same structure.\n",
    "3. It is human readable.\n",
    "4. It can be created manually as well as programmatically almost in any programming languages.\n",
    "5. It is convenient for running in a distributed setting."
   ]
  },
  {
   "cell_type": "markdown",
   "metadata": {},
   "source": [
    "### Input\n",
    "\n",
    "The following JSON schema describes input "
   ]
  },
  {
   "cell_type": "markdown",
   "metadata": {},
   "source": [
    "<img src=\"images/json-input-schema.png\" width=\"300\" height=\"300\" style=\"float: center\"/>"
   ]
  },
  {
   "cell_type": "markdown",
   "metadata": {},
   "source": [
    "The nodesI and nodesII list JSON models of nodes in the computation graph.\n",
    "\n",
    "In the input, JSON schema of node is"
   ]
  },
  {
   "cell_type": "markdown",
   "metadata": {},
   "source": [
    "<img src=\"images/json-input-node.png\" width=\"300\" height=\"300\" style=\"float: center\"/>"
   ]
  },
  {
   "cell_type": "markdown",
   "metadata": {},
   "source": [
    "The fields are self-explonatory:\n",
    "- name - the name of the node. All nodes in the graph should have different names.\n",
    "- class - the full name of the Java class implementing the node.\n",
    "- neighbors - list of nodes connected through edges with this node\n",
    "- input - JSON object with additional input for this node, it can be null if the node has no input"
   ]
  },
  {
   "cell_type": "markdown",
   "metadata": {},
   "source": [
    "### Output\n",
    "\n",
    "The following JSON schema describes output "
   ]
  },
  {
   "cell_type": "markdown",
   "metadata": {},
   "source": [
    "<img src=\"images/json-output-schema.png\" width=\"300\" height=\"300\" style=\"float: center\"/>"
   ]
  },
  {
   "cell_type": "markdown",
   "metadata": {},
   "source": [
    "The nodesI and nodesII list outcomes of optimization for nodes in the computation graph.\n",
    "\n",
    "In the output, JSON schema of node is"
   ]
  },
  {
   "cell_type": "markdown",
   "metadata": {},
   "source": [
    "<img src=\"images/json-output-node.png\" width=\"300\" height=\"300\" style=\"float: center\"/>"
   ]
  },
  {
   "cell_type": "markdown",
   "metadata": {},
   "source": [
    "The main information about results of optimization is given in _variables_ and _multipliers_ JSON objects.\\\n",
    "These contain corresponding values for each neighbor of the node.\\\n",
    "Examples of output files provide more insights."
   ]
  },
  {
   "cell_type": "markdown",
   "metadata": {},
   "source": [
    "# Example\n",
    "\n",
    "Suppose the problem at hand is represented by the following graph "
   ]
  },
  {
   "cell_type": "markdown",
   "metadata": {},
   "source": [
    "<img src=\"images/tutorial-example-graph.png\" width=\"700\" height=\"700\" style=\"float: center\"/>"
   ]
  },
  {
   "cell_type": "markdown",
   "metadata": {},
   "source": [
    "The vectors $x$ and $z$ represent variables of the corresponding nodes.\\\n",
    "Edges represent shared variables and these should satisfy $x=z$.\\\n",
    "A node can have different number of shared variables with its neighbors."
   ]
  },
  {
   "cell_type": "markdown",
   "metadata": {},
   "source": [
    "The JSON model and input for admm4j would have the following form"
   ]
  },
  {
   "cell_type": "markdown",
   "metadata": {},
   "source": [
    "<img src=\"images/tutorial-example-json.png\" width=\"800\" height=\"800\" style=\"float: center\"/>"
   ]
  },
  {
   "cell_type": "markdown",
   "metadata": {},
   "source": [
    "#### Specifying neighbors\n",
    "\n",
    "Each element in the array of neighbors follows the format __\"name:nvar:rho\"__\n",
    "- name - name of the neighboring node (neighbor is the node with which there is an edge)\n",
    "- nvar - number of shared variables with this neighbor\n",
    "- rho - scaling parameter in ADMM algorithm \n",
    "\n",
    "In principle, the value of scaling parameter ($\\rho$) can be different in the different parts of the computation graph. Though, this example uses rho=1 for all nodes."
   ]
  },
  {
   "cell_type": "markdown",
   "metadata": {},
   "source": [
    "Consider the node with the name \"B\".\\\n",
    "Its neighbors are specified by the array [\"D:20:1\", \"E:10:1\"]\\\n",
    "This means the node B has the nodes D and E as its neighbors, sharing 20 and 10 variables with each of them correspondingly. The scaling parameter rho is equal to 1 for all nodes."
   ]
  },
  {
   "cell_type": "markdown",
   "metadata": {},
   "source": [
    "See examples of input and output files for more details."
   ]
  },
  {
   "cell_type": "markdown",
   "metadata": {},
   "source": [
    "For modeling complex energy networks:\n",
    "\n",
    "R. Denysiuk, F. Lilliu, M. Vinyals and D. Reforgiato Recupero (2020). Multiagent system for community energy management.\\\n",
    "*In Proceedings of the 12th International Conference on Agents and Artificial Intelligence - Volume 1: ICAART*, pages 28-39."
   ]
  },
  {
   "cell_type": "code",
   "execution_count": null,
   "metadata": {},
   "outputs": [],
   "source": []
  }
 ],
 "metadata": {
  "kernelspec": {
   "display_name": "Python 3",
   "language": "python",
   "name": "python3"
  },
  "language_info": {
   "codemirror_mode": {
    "name": "ipython",
    "version": 3
   },
   "file_extension": ".py",
   "mimetype": "text/x-python",
   "name": "python",
   "nbconvert_exporter": "python",
   "pygments_lexer": "ipython3",
   "version": "3.7.4"
  }
 },
 "nbformat": 4,
 "nbformat_minor": 2
}
