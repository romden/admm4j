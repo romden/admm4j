{
 "cells": [
  {
   "cell_type": "markdown",
   "metadata": {},
   "source": [
    "## Logistic Regression\n",
    "\n",
    "Here the goal is to show how an objective function can be decomposed and solved by ADMM.\n",
    "\n",
    "For this purpose, this notebook considers solving a classification problem with logistic regression."
   ]
  },
  {
   "cell_type": "markdown",
   "metadata": {},
   "source": [
    "### Loss function"
   ]
  },
  {
   "cell_type": "markdown",
   "metadata": {},
   "source": [
    "minimize: $\\sum -[y\\log(\\hat{y}) + (1-y)\\log(1-\\hat{y})] + \\lambda \\|x\\|_1$"
   ]
  },
  {
   "cell_type": "markdown",
   "metadata": {},
   "source": [
    "The problem can be decomposed using one of the approaches presented in __Example_LeastSquares__ notebook.\n",
    "\n",
    "This notebook shows how to decompose into minimization of cross-entropy and regularization term."
   ]
  },
  {
   "cell_type": "markdown",
   "metadata": {},
   "source": [
    "### Steps\n",
    "\n",
    "1. Devise a computation graph representing the problem as a bipartite graph\n",
    "2. Implement nodes as Java classes extending org.admm4j.core.Node\n",
    "3. Create the JSON input defining the graph\n",
    "4. Execute admm4j\n",
    "5. Import and analyze results"
   ]
  },
  {
   "cell_type": "code",
   "execution_count": 1,
   "metadata": {},
   "outputs": [],
   "source": [
    "import numpy as np\n",
    "import matplotlib.pyplot as plt\n",
    "import json"
   ]
  },
  {
   "cell_type": "markdown",
   "metadata": {},
   "source": [
    "### Generate data"
   ]
  },
  {
   "cell_type": "code",
   "execution_count": 2,
   "metadata": {},
   "outputs": [
    {
     "data": {
      "image/png": "[encoded data removed]",
      "text/plain": [
       "<Figure size 432x288 with 1 Axes>"
      ]
     },
     "metadata": {
      "needs_background": "light"
     },
     "output_type": "display_data"
    }
   ],
   "source": [
    "np.random.seed(100)\n",
    "data = np.random.normal(0, 4, (100,2))\n",
    "target = np.dot(data, np.array([1,1]))\n",
    "target[target<=0] = 0\n",
    "target[target>0] = 1\n",
    "\n",
    "\n",
    "# plot data\n",
    "plt.plot(data[target==0,0], data[target==0,1], 'b.', markersize=10)\n",
    "plt.plot(data[target==1,0], data[target==1,1], 'r.', markersize=10)\n",
    "\n",
    "plt.xlabel('x1')\n",
    "plt.ylabel('x2')\n",
    "plt.title(\"Data\")\n",
    "plt.legend(['class 0', 'class 1'])\n",
    "plt.show()"
   ]
  },
  {
   "cell_type": "markdown",
   "metadata": {},
   "source": [
    "### Step 1. Devise a computation graph representing the problem as a bipartite graph\n",
    "\n",
    "The graph shows that the original problem is decomposed into two separate tasks. "
   ]
  },
  {
   "cell_type": "markdown",
   "metadata": {},
   "source": [
    "<img src=\"images/optimizer-regularizer0.png\" width=\"600\" height=\"600\" style=\"float: center\"/>"
   ]
  },
  {
   "cell_type": "markdown",
   "metadata": {},
   "source": [
    "### Step 2. Implement nodes as Java classes extending org.admm4j.core.Node"
   ]
  },
  {
   "cell_type": "markdown",
   "metadata": {},
   "source": [
    "The following classes are implemented\n",
    "\n",
    "1. org.admm4j.demo.ml.linearmodel.LogisticRegressionNode.java\n",
    "\n",
    "2. org.admm4j.demo.common.L1NormNode.java"
   ]
  },
  {
   "cell_type": "markdown",
   "metadata": {},
   "source": [
    "### Step 3. Create the JSON input defining the graph\n",
    "\n",
    "The JSON input has a well-defined structure allowing to define an arbitrary bipartite graph.\n",
    "\n",
    "Here the JSON input is created in python."
   ]
  },
  {
   "cell_type": "code",
   "execution_count": 3,
   "metadata": {},
   "outputs": [],
   "source": [
    "# add vector of ones representing bias \n",
    "I = np.ones(data.shape[0]).reshape(-1,1)\n",
    "X = np.concatenate((I, data), axis=1)\n",
    "y = target\n",
    "\n",
    "# number of variables and scaling parameter\n",
    "nvar = X.shape[1] \n",
    "rho = 1\n",
    "\n",
    "# lambda regularization term\n",
    "_lambda = 0.2 * np.ones(nvar)\n",
    "_lambda[0] = 0 # we do not want regularize bias term\n",
    "\n",
    "# init nodesI.\n",
    "nodesI = []\n",
    "\n",
    "# define node\n",
    "node = {}\n",
    "node['name'] = 'crossentropy'\n",
    "node['class'] = 'org.admm4j.demo.ml.linearmodel.LogisticRegressionNode'\n",
    "node['neighbors'] = ['regularization:{}:{}'.format(nvar, rho)] # n and rho are set here, alternatively command line can be used\n",
    "node['input'] = {'data': X.tolist(), 'target': y.tolist()}\n",
    "\n",
    "# add to the list of nodesI\n",
    "nodesI.append(node)\n",
    "\n",
    "\n",
    "# init nodesII\n",
    "nodesII = []\n",
    "\n",
    "node = {}\n",
    "node['name'] = 'regularization'\n",
    "node['class'] = 'org.admm4j.demo.common.L1NormNode'\n",
    "node['neighbors'] = ['crossentropy:{}:{}'.format(nvar, rho)] # n and rho are set here, alternatively command line can be used\n",
    "node['input'] = {'lambda': _lambda.tolist()}\n",
    "\n",
    "# add to the list of nodesII\n",
    "nodesII.append(node)\n",
    "\n",
    "# init whole json model\n",
    "graph = {'nodesI': nodesI, 'nodesII': nodesII}"
   ]
  },
  {
   "cell_type": "markdown",
   "metadata": {},
   "source": [
    "#### Show JSON model"
   ]
  },
  {
   "cell_type": "code",
   "execution_count": 4,
   "metadata": {},
   "outputs": [
    {
     "name": "stdout",
     "output_type": "stream",
     "text": [
      "{\"nodesI\": [{\"name\": \"crossentropy\", \"class\": \"org.admm4j.demo.ml.linearmodel.LogisticRegressionNode\", \"neighbors\": [\"regularization:3:1\"], \"input\": {\"data\": [[1.0, -6.99906189221879, 1.3707216133100086], [1.0, 4.612143210254576, -1.0097441460855594], [1.0, 3.9252831478049264, 2.0568753655775285], [1.0, 0.8847186768856018, -4.280173322273173], [1.0, -0.7579833232927013, 1.0200057770935267], [1.0, -1.832107942010497, 1.7406539524915685], [1.0, -2.334380201290659, 3.267388286743116], [1.0, 2.690883222838644, -0.41764457356251083], [1.0, -2.125121507407639, 4.118930740533385], [1.0, -1.7525424908176694, -4.473272985021745], [1.0, 6.4759266427010385, 6.166420698053627], [1.0, -1.007516556852852, -3.3697429530051903], [1.0, 0.7380747622557714, 3.748328804435809], [1.0, 2.924001375339235, 5.446224500581324], [1.0, -1.3049522368092101, 0.22270405941910762], [1.0, 0.8895984342212194, -5.7728679809013475], [1.0, -3.025409222377742, 3.2658160440771433], [1.0, 3.001779046136714, -1.8237877098720088], [1.0, 4.758489072116502, -6.762467305534416], [1.0, -5.425596195445251, -4.929738055659705], [1.0, -2.1777566466898572, -2.6726869472537107], [1.0, 0.029258252915612196, -2.4517549419126503], [1.0, 5.198992299021236, -6.932382494613124], [1.0, -3.93324039651852, 1.4300310126694615], [1.0, -6.454314011288703, 5.8828554664485155], [1.0, -4.7520703892708775, -2.198984774141959], [1.0, -3.7601846461790727, -3.3117294574634832], [1.0, 0.435453871334718, 2.03123836196928], [1.0, -3.448909386041919, 4.997878970907916], [1.0, -0.3184449836695977, -3.5589259250601355], [1.0, -3.52719355793207, 0.07455579795224064], [1.0, 0.9513784876944872, 0.054194194514449644], [1.0, -6.542117597523288, -4.176839510837268], [1.0, 2.452155526750185, 2.9448208532952953], [1.0, 4.107685757599162, -5.728762444235707], [1.0, -7.364753200746868, 1.4643729046692147], [1.0, -1.3271085402112344, -2.7568719123590126], [1.0, 8.138430246019734, -2.202857647658371], [1.0, 3.0018133213073646, -5.2279693563232765], [1.0, 2.3222933431770976, -4.418092370649175], [1.0, 2.7604858808988304, 2.747560264553619], [1.0, -6.266750118313564, 3.619896485866725], [1.0, 3.115289597292269, 1.7129314823869628], [1.0, 0.4354879595916581, 0.11313453929229299], [1.0, -2.3153032991639537, -4.797804796775725], [1.0, -6.823808022952681, 1.4766558284280231], [1.0, 7.506293707848663, -1.507613400675899], [1.0, 7.3277443273021445, 0.012069736124856251], [1.0, -0.3040938628984934, 0.01583037595039642], [1.0, -0.7400564435884558, -9.948606140891078], [1.0, -6.81860482304385, -4.5450440273094515], [1.0, -11.893261896203542, 0.1332691125554515], [1.0, -0.9955546682324317, -1.8007057400466033], [1.0, 0.5297112045950951, 0.08885571215756395], [1.0, 1.2694719037642719, -3.0096567109001495], [1.0, -5.185567228600603, 0.380557774261812], [1.0, -1.6948603997736817, -4.743934259716692], [1.0, -1.461847970706508, -5.084092163386644], [1.0, 6.344683753692941, 2.773562634066353], [1.0, -7.8323249368314665, -0.5392052479599797], [1.0, -6.162464098210455, 8.186855873928554], [1.0, -5.587997379813134, -4.388687938559291], [1.0, -0.9548514772587182, -5.716267593793164], [1.0, 3.7960191060210393, -0.0775903438498611], [1.0, 3.578390823040053, 3.038772479400822], [1.0, -5.9908815243326785, -4.775543907167752], [1.0, 5.185050345596229, 3.8091025043275626], [1.0, -4.869016522564059, -0.6290606695005517], [1.0, -6.030340641057545, 0.43153652322645436], [1.0, 2.98822262039659, 1.7187057434504385], [1.0, -5.660171683410104, -2.5630396920422864], [1.0, 3.118505214654783, -1.7524836653953715], [1.0, 8.299172671786263, -1.373190728729879], [1.0, -2.466517486732778, 3.0527345842399694], [1.0, 0.7716687672932261, -1.3938357226094824], [1.0, 9.194615762854703, -0.6608382105629274], [1.0, 1.8651974734287577, 1.0799489545243561], [1.0, -1.2793241884723532, -4.590966399506345], [1.0, 6.81449595248282, -2.8886030802230134], [1.0, 4.374746598634885, -0.9180710129598249], [1.0, -0.035594653168441286, -2.1727920336286886], [1.0, 3.0122487507679154, -6.437755584691818], [1.0, 7.773049053735984, -5.7897444492783405], [1.0, 0.5209938214108087, 3.797443458643947], [1.0, -8.060754868490106, -0.31816234773644403], [1.0, 1.2041978551522619, -6.739599846740721], [1.0, 0.8895632377817945, -2.739686940988921], [1.0, -0.5048047348543082, 7.961094599016362], [1.0, 2.091991218083006, -0.06538161102994866], [1.0, -1.6632653433626, -5.434011747039199], [1.0, -2.057719565475141, -0.8642404800130453], [1.0, 1.6895208816879124, -4.37617172412894], [1.0, 4.947631540760901, -0.9211387137084317], [1.0, -2.8176727989400927, -2.365500484340688], [1.0, 2.9479806760728486, 1.7434690100596404], [1.0, 7.103974342027066, 2.0522975153585814], [1.0, 4.682107931792574, 8.310848929000814], [1.0, -1.823688076856081, 2.5966917090187285], [1.0, -0.6991262178059927, 4.069057373004678], [1.0, -2.3999321793954675, 6.304666897276825]], \"target\": [0.0, 1.0, 1.0, 0.0, 1.0, 0.0, 1.0, 1.0, 1.0, 0.0, 1.0, 0.0, 1.0, 1.0, 0.0, 0.0, 1.0, 1.0, 0.0, 0.0, 0.0, 0.0, 0.0, 0.0, 0.0, 0.0, 0.0, 1.0, 1.0, 0.0, 0.0, 1.0, 0.0, 1.0, 0.0, 0.0, 0.0, 1.0, 0.0, 0.0, 1.0, 0.0, 1.0, 1.0, 0.0, 0.0, 1.0, 1.0, 0.0, 0.0, 0.0, 0.0, 0.0, 1.0, 0.0, 0.0, 0.0, 0.0, 1.0, 0.0, 1.0, 0.0, 0.0, 1.0, 1.0, 0.0, 1.0, 0.0, 0.0, 1.0, 0.0, 1.0, 1.0, 1.0, 0.0, 1.0, 1.0, 0.0, 1.0, 1.0, 0.0, 0.0, 1.0, 1.0, 0.0, 0.0, 0.0, 1.0, 1.0, 0.0, 0.0, 0.0, 1.0, 0.0, 1.0, 1.0, 1.0, 1.0, 1.0, 1.0]}}], \"nodesII\": [{\"name\": \"regularization\", \"class\": \"org.admm4j.demo.common.L1NormNode\", \"neighbors\": [\"crossentropy:3:1\"], \"input\": {\"lambda\": [0.0, 0.2, 0.2]}}]}\n"
     ]
    }
   ],
   "source": [
    "print(json.dumps(graph))"
   ]
  },
  {
   "cell_type": "markdown",
   "metadata": {},
   "source": [
    "#### Save JSON input file"
   ]
  },
  {
   "cell_type": "code",
   "execution_count": 5,
   "metadata": {},
   "outputs": [],
   "source": [
    "filename = 'logistic_regression_input.json'\n",
    "fout = open(filename, 'w')\n",
    "json.dump(graph, fout, indent=4)\n",
    "fout.close()"
   ]
  },
  {
   "cell_type": "markdown",
   "metadata": {},
   "source": [
    "### Step 4. Execute admm4j\n",
    "\n",
    "#### Note: -nvar and -rho are not specified because they are set in json input"
   ]
  },
  {
   "cell_type": "code",
   "execution_count": 6,
   "metadata": {},
   "outputs": [
    {
     "name": "stdout",
     "output_type": "stream",
     "text": [
      "Iter: 10   Runtime: 105\n",
      "NodeII: regularization primal: 0.000000 dual: 0.076478\n",
      "Iter: 20   Runtime: 129\n",
      "NodeII: regularization primal: 0.000000 dual: 0.029631\n",
      "Iter: 30   Runtime: 148\n",
      "NodeII: regularization primal: 0.000000 dual: 0.012560\n",
      "Iter: 40   Runtime: 164\n",
      "NodeII: regularization primal: 0.000000 dual: 0.005719\n",
      "Iter: 50   Runtime: 178\n",
      "NodeII: regularization primal: 0.000000 dual: 0.002685\n",
      "Iter: 60   Runtime: 188\n",
      "NodeII: regularization primal: 0.000000 dual: 0.001282\n",
      "Iter: 70   Runtime: 196\n",
      "NodeII: regularization primal: 0.000000 dual: 0.000615\n",
      "Iter: 80   Runtime: 206\n",
      "NodeII: regularization primal: 0.000000 dual: 0.000303\n",
      "Iter: 90   Runtime: 215\n",
      "NodeII: regularization primal: 0.000000 dual: 0.000143\n"
     ]
    }
   ],
   "source": [
    "!java -jar admm4j-demo/target/admm4j-demo-1.0-jar-with-dependencies.jar\\\n",
    "           -input logistic_regression_input.json\\\n",
    "           -output logistic_regression_output.json\\\n",
    "           -verbose 10"
   ]
  },
  {
   "cell_type": "markdown",
   "metadata": {},
   "source": [
    "### Step 5. Import and analyze results"
   ]
  },
  {
   "cell_type": "code",
   "execution_count": 7,
   "metadata": {},
   "outputs": [],
   "source": [
    "fin = open('logistic_regression_output.json', 'r')\n",
    "res = json.loads(fin.read())\n",
    "fin.close()"
   ]
  },
  {
   "cell_type": "markdown",
   "metadata": {},
   "source": [
    "#### Show results and evaluate performance"
   ]
  },
  {
   "cell_type": "code",
   "execution_count": 8,
   "metadata": {},
   "outputs": [
    {
     "name": "stdout",
     "output_type": "stream",
     "text": [
      "Coefficients [-0.1268249608153626, 4.970155461703236, 5.024166762173793]\n"
     ]
    }
   ],
   "source": [
    "coeff = res.get('nodesI')[0].get('variables').get('regularization')\n",
    "\n",
    "print('Coefficients', coeff)"
   ]
  },
  {
   "cell_type": "code",
   "execution_count": 9,
   "metadata": {},
   "outputs": [
    {
     "data": {
      "image/png": "[encoded data removed]",
      "text/plain": [
       "<Figure size 432x288 with 1 Axes>"
      ]
     },
     "metadata": {
      "needs_background": "light"
     },
     "output_type": "display_data"
    }
   ],
   "source": [
    "w = np.array(coeff[1:])\n",
    "b = coeff[0]\n",
    "\n",
    "z = np.dot(data, w) + b\n",
    "\n",
    "y_pred = 1. / (1. + np.exp(-z))\n",
    "\n",
    "plt.plot(data[y_pred<=0.5,0], data[y_pred<=0.5,1], 'bx', markersize=10)\n",
    "plt.plot(data[y_pred>0.5,0], data[y_pred>0.5,1], 'rx', markersize=10)\n",
    "\n",
    "plt.plot(data[target==0,0], data[target==0,1], 'b.', markersize=8)\n",
    "plt.plot(data[target==1,0], data[target==1,1], 'r.', markersize=8)\n",
    "\n",
    "plt.xlabel('x1')\n",
    "plt.ylabel('x2')\n",
    "plt.title(\"Data\")\n",
    "plt.show()"
   ]
  },
  {
   "cell_type": "markdown",
   "metadata": {},
   "source": [
    "The plot shows that the coefficients found for logistic regression model give a good fit to the data."
   ]
  }
 ],
 "metadata": {
  "kernelspec": {
   "display_name": "Python 3",
   "language": "python",
   "name": "python3"
  },
  "language_info": {
   "codemirror_mode": {
    "name": "ipython",
    "version": 3
   },
   "file_extension": ".py",
   "mimetype": "text/x-python",
   "name": "python",
   "nbconvert_exporter": "python",
   "pygments_lexer": "ipython3",
   "version": "3.7.3"
  }
 },
 "nbformat": 4,
 "nbformat_minor": 2
}
