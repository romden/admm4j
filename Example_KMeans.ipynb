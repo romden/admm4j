{
 "cells": [
  {
   "cell_type": "markdown",
   "metadata": {},
   "source": [
    "## K-means clustering\n",
    "\n",
    "It is important to note that K-means clustering problem is not solved by ADDM. \n",
    "\n",
    "The goal is to show a bipartite graph structure in admm4j can be exploited beyond ADMM algorithm."
   ]
  },
  {
   "cell_type": "markdown",
   "metadata": {},
   "source": [
    "### Steps\n",
    "\n",
    "1. Devise a computation graph representing the problem as a bipartite graph\n",
    "2. Implement nodes as Java classes extending org.admm4j.core.Node\n",
    "3. Create the JSON input defining the graph\n",
    "4. Execute admm4j\n",
    "5. Import and analyze results"
   ]
  },
  {
   "cell_type": "code",
   "execution_count": 1,
   "metadata": {},
   "outputs": [],
   "source": [
    "import numpy as np\n",
    "import matplotlib.pyplot as plt\n",
    "import json"
   ]
  },
  {
   "cell_type": "markdown",
   "metadata": {},
   "source": [
    "### Generate data for clustering"
   ]
  },
  {
   "cell_type": "code",
   "execution_count": 2,
   "metadata": {},
   "outputs": [
    {
     "data": {
      "image/png": "[encoded data removed]",
      "text/plain": [
       "<Figure size 432x288 with 1 Axes>"
      ]
     },
     "metadata": {
      "needs_background": "light"
     },
     "output_type": "display_data"
    }
   ],
   "source": [
    "np.random.seed(1200)\n",
    "\n",
    "# init centers\n",
    "c1 = np.array([1, 3])\n",
    "c2 = np.array([-3, 1])\n",
    "c3 = np.array([1, -3])\n",
    "\n",
    "# sample data\n",
    "d1 = c1 + np.random.normal(0, 1, (12,2))\n",
    "d2 = c2 + np.random.normal(0, 1, (12,2))\n",
    "d3 = c3 + np.random.normal(0, 1, (12,2))\n",
    "\n",
    "data = np.concatenate((d1, d2, d3), axis=0)\n",
    "\n",
    "# plot data\n",
    "plt.plot(data[0:12,0], data[0:12,1], 'r.', markersize=10)\n",
    "plt.plot(data[12:24,0], data[12:24,1], 'g.', markersize=10)\n",
    "plt.plot(data[24:36,0], data[24:36,1], 'b.', markersize=10)\n",
    "\n",
    "plt.xlabel('x1')\n",
    "plt.ylabel('x2')\n",
    "plt.title(\"Data distribution\")\n",
    "plt.show()"
   ]
  },
  {
   "cell_type": "code",
   "execution_count": 3,
   "metadata": {},
   "outputs": [
    {
     "data": {
      "image/png": "[encoded data removed]",
      "text/plain": [
       "<Figure size 432x288 with 1 Axes>"
      ]
     },
     "metadata": {
      "needs_background": "light"
     },
     "output_type": "display_data"
    }
   ],
   "source": [
    "# permute data points\n",
    "idx = np.random.permutation(data.shape[0])\n",
    "data = data[idx,:]\n",
    "\n",
    "# plot data\n",
    "plt.plot(data[0:12,0], data[0:12,1], 'r.', markersize=10)\n",
    "plt.plot(data[12:24,0], data[12:24,1], 'g.', markersize=10)\n",
    "plt.plot(data[24:36,0], data[24:36,1], 'b.', markersize=10)\n",
    "\n",
    "plt.xlabel('x1')\n",
    "plt.ylabel('x2')\n",
    "plt.title(\"Data distribution after permutation\")\n",
    "plt.show()"
   ]
  },
  {
   "cell_type": "markdown",
   "metadata": {},
   "source": [
    "### Step 1. Devise a computation graph representing the problem as a bipartite graph\n",
    "\n",
    "The data is distributed across worker nodes.\\\n",
    "Workers update cluster centers using local data.\\\n",
    "Master averages the results collected from workers.\n",
    "#### The calculation of primal residual in master differs from ADMM."
   ]
  },
  {
   "cell_type": "markdown",
   "metadata": {},
   "source": [
    "<img src=\"images/master-workers1.png\" width=\"600\" height=\"600\" style=\"float: center\"/>"
   ]
  },
  {
   "cell_type": "markdown",
   "metadata": {},
   "source": [
    "### Step 2. Implement nodes as Java classes extending org.admm4j.core.Node"
   ]
  },
  {
   "cell_type": "markdown",
   "metadata": {},
   "source": [
    "The following classes are implemented\n",
    "1. org.admm4j.demo.ml.cluster.KMeansWorker.java \n",
    "2. org.admm4j.demo.ml.cluster.KMeansMaster.java"
   ]
  },
  {
   "cell_type": "markdown",
   "metadata": {},
   "source": [
    "### Step 3. Create the JSON input defining the graph\n",
    "\n",
    "The JSON input has a well-defined structure allowing to define an arbitrary bipartite graph.\n",
    "\n",
    "Here the JSON input is created in python."
   ]
  },
  {
   "cell_type": "code",
   "execution_count": 4,
   "metadata": {},
   "outputs": [],
   "source": [
    "# here we cluster the data into 3 clusters with data being distributed across 4 workers having 9 points in each node\n",
    "num_workers = 4\n",
    "num_clusters = 3\n",
    "points_per_node = 9\n",
    "\n",
    "# init nodesI.\n",
    "nodesI = []\n",
    "for i in range(0, num_workers):\n",
    "    # define node\n",
    "    node = {}\n",
    "    node['name'] = 'worker{}'.format(i)\n",
    "    node['class'] = 'org.admm4j.demo.ml.cluster.KMeansWorker'\n",
    "    node['neighbors'] = ['master']\n",
    "    node['input'] = {'k': num_clusters, 'data': data[i*points_per_node:(i+1)*points_per_node:,:].tolist()}\n",
    "    # add to the list of nodesI\n",
    "    nodesI.append(node)\n",
    "\n",
    "# init nodesII\n",
    "nodesII = []\n",
    "node = {}\n",
    "node['name'] = 'master'\n",
    "node['class'] = 'org.admm4j.demo.ml.cluster.KMeansMaster'\n",
    "node['neighbors'] = None\n",
    "node['input'] = {'k': num_clusters}\n",
    "nodesII.append(node)\n",
    "\n",
    "# init whole json model\n",
    "model = {'nodesI': nodesI, 'nodesII': nodesII}"
   ]
  },
  {
   "cell_type": "markdown",
   "metadata": {},
   "source": [
    "#### Show JSON model"
   ]
  },
  {
   "cell_type": "code",
   "execution_count": 5,
   "metadata": {},
   "outputs": [
    {
     "name": "stdout",
     "output_type": "stream",
     "text": [
      "{\"nodesI\": [{\"name\": \"worker0\", \"class\": \"org.admm4j.demo.ml.cluster.KMeansWorker\", \"neighbors\": [\"master\"], \"input\": {\"k\": 3, \"data\": [[0.5443009226568495, 2.3181259541319132], [1.585754621823286, -4.359023882384643], [0.04885666192932625, -2.4591580172578227], [1.7044854166704497, 1.0413609155774386], [-4.162579950537012, 1.3246762364182372], [1.7438665364691088, -3.8543404909835592], [0.6526230986614925, -2.430230344423357], [1.006626776293171, -1.7699319397795772], [-2.985428769928258, 3.6063399893309667]]}}, {\"name\": \"worker1\", \"class\": \"org.admm4j.demo.ml.cluster.KMeansWorker\", \"neighbors\": [\"master\"], \"input\": {\"k\": 3, \"data\": [[-3.740360905594781, -0.3329546731008901], [-2.8899256563343507, 0.8729959179269986], [2.922239106915986, -2.8579672493143233], [-2.537854622628764, 1.2045533775390918], [0.4956575886051984, 4.349763512220156], [0.36280557287058146, 2.805236608624553], [2.364971863319541, -4.284961114823476], [-3.6003230886807542, 0.10730698115363735], [1.3871629508638823, 2.990252051786036]]}}, {\"name\": \"worker2\", \"class\": \"org.admm4j.demo.ml.cluster.KMeansWorker\", \"neighbors\": [\"master\"], \"input\": {\"k\": 3, \"data\": [[-4.846769880799777, 2.263863167343785], [-0.2548308960113601, -3.5156946941310263], [-3.03239379173283, 1.3518475221349406], [-3.5310541357472136, 2.3799700453069415], [-4.702748573775685, 0.9107459376423372], [2.685337972820851, -1.5028704410452876], [1.7315156783892969, 4.011621204890483], [0.7790398939772667, 2.3679136691673635], [1.86923014720445, 3.4245538289467303]]}}, {\"name\": \"worker3\", \"class\": \"org.admm4j.demo.ml.cluster.KMeansWorker\", \"neighbors\": [\"master\"], \"input\": {\"k\": 3, \"data\": [[-3.822554560942558, -0.8316276370318858], [1.0872072919258478, -2.0140792313570026], [1.7858471946060208, -2.708497112956467], [-0.3449619496821865, 2.98972482429997], [-3.53756781393868, -0.31974476276635744], [1.1537090688903702, 4.233066702075308], [1.5220216291400386, 3.069946807159268], [2.1037186057834534, 2.9274302562038224], [0.9533282286296724, -3.725744612730856]]}}], \"nodesII\": [{\"name\": \"master\", \"class\": \"org.admm4j.demo.ml.cluster.KMeansMaster\", \"neighbors\": null, \"input\": {\"k\": 3}}]}\n"
     ]
    }
   ],
   "source": [
    "print(json.dumps(model))"
   ]
  },
  {
   "cell_type": "markdown",
   "metadata": {},
   "source": [
    "#### Save JSON input file"
   ]
  },
  {
   "cell_type": "code",
   "execution_count": 6,
   "metadata": {},
   "outputs": [],
   "source": [
    "filename = 'kmeans_input.json'\n",
    "fout = open(filename, 'w')\n",
    "json.dump(model, fout, indent=4)\n",
    "fout.close()"
   ]
  },
  {
   "cell_type": "markdown",
   "metadata": {},
   "source": [
    "### Step 4. Execute admm4j\n",
    "\n",
    "Following parameters are provided:\n",
    "1. -input \n",
    "2. -output \n",
    "3. -nvar\n",
    "\n",
    "#### Note: -nvar is provided in command line (-rho is not defined because ADMM algorithm is not used in k-means)"
   ]
  },
  {
   "cell_type": "code",
   "execution_count": 7,
   "metadata": {},
   "outputs": [],
   "source": [
    "!java -jar admm4j-demo/target/admm4j-demo-1.0-jar-with-dependencies.jar\\\n",
    "           -input kmeans_input.json\\\n",
    "           -output kmeans_output.json\\\n",
    "           -nvar 6"
   ]
  },
  {
   "cell_type": "markdown",
   "metadata": {},
   "source": [
    "### Step 5. Import and analyze results"
   ]
  },
  {
   "cell_type": "code",
   "execution_count": 8,
   "metadata": {},
   "outputs": [],
   "source": [
    "fin = open('kmeans_output.json', 'r')\n",
    "res = json.loads(fin.read())\n",
    "fin.close()"
   ]
  },
  {
   "cell_type": "markdown",
   "metadata": {},
   "source": [
    "#### Visulalize cluster centers"
   ]
  },
  {
   "cell_type": "code",
   "execution_count": 9,
   "metadata": {},
   "outputs": [
    {
     "name": "stdout",
     "output_type": "stream",
     "text": [
      "c0 [-3.618605802874198, 1.019850995490548]\n",
      "c1 [1.5354663669029083, -2.9678476675760725]\n",
      "c2 [1.110371404708365, 2.9086414685419273]\n"
     ]
    },
    {
     "data": {
      "image/png": "[encoded data removed]",
      "text/plain": [
       "<Figure size 432x288 with 1 Axes>"
      ]
     },
     "metadata": {
      "needs_background": "light"
     },
     "output_type": "display_data"
    }
   ],
   "source": [
    "for key in res.get('nodesII')[0].get('internal').keys():\n",
    "    c = res.get('nodesII')[0].get('internal').get(key)\n",
    "    print(key, c)\n",
    "    plt.plot(c[0], c[1], 'rx', markersize=10)\n",
    "    \n",
    "plt.plot(data[:,0], data[:,1], 'b.', markersize=10)\n",
    "\n",
    "plt.xlabel('x1')\n",
    "plt.ylabel('x2')\n",
    "plt.title(\"Data and cluster centers\")\n",
    "plt.legend(['center 0', 'center 1', 'center 2', 'data'])\n",
    "plt.show()"
   ]
  },
  {
   "cell_type": "markdown",
   "metadata": {},
   "source": [
    "Reasonable cluster centers were found.\n",
    "\n",
    "Data proints closest to a particular center form a cluster.\n",
    "\n",
    "For practical data sets, initial cluster centers can be provided in the input."
   ]
  },
  {
   "cell_type": "markdown",
   "metadata": {},
   "source": [
    "### Comparing with KMeans in scikit-learn"
   ]
  },
  {
   "cell_type": "code",
   "execution_count": 10,
   "metadata": {},
   "outputs": [
    {
     "name": "stdout",
     "output_type": "stream",
     "text": [
      "c0 [1.1090571271141376, 3.0440830279235875]\n",
      "c1 [1.381819038115245, -2.9568749275989497]\n",
      "c2 [-3.6157968125533886, 1.0448310084914836]\n"
     ]
    },
    {
     "data": {
      "image/png": "[encoded data removed]",
      "text/plain": [
       "<Figure size 432x288 with 1 Axes>"
      ]
     },
     "metadata": {
      "needs_background": "light"
     },
     "output_type": "display_data"
    }
   ],
   "source": [
    "from sklearn.cluster import KMeans\n",
    "kmeans = KMeans(n_clusters=3, random_state=0).fit(data)\n",
    "\n",
    "for k in range(3):\n",
    "    print('c{}'.format(k), kmeans.cluster_centers_[k,:].tolist())\n",
    "    plt.plot(kmeans.cluster_centers_[k,0], kmeans.cluster_centers_[k,1], 'rx', markersize=10)\n",
    "    \n",
    "plt.plot(data[:,0], data[:,1], 'b.', markersize=10)\n",
    "\n",
    "plt.xlabel('x1')\n",
    "plt.ylabel('x2')\n",
    "plt.title(\"Data and cluster centers\")\n",
    "plt.legend(['center 0', 'center 1', 'center 2', 'data'])\n",
    "plt.show()"
   ]
  },
  {
   "cell_type": "markdown",
   "metadata": {},
   "source": [
    "Similar results are obtained."
   ]
  }
 ],
 "metadata": {
  "kernelspec": {
   "display_name": "Python 3",
   "language": "python",
   "name": "python3"
  },
  "language_info": {
   "codemirror_mode": {
    "name": "ipython",
    "version": 3
   },
   "file_extension": ".py",
   "mimetype": "text/x-python",
   "name": "python",
   "nbconvert_exporter": "python",
   "pygments_lexer": "ipython3",
   "version": "3.7.3"
  }
 },
 "nbformat": 4,
 "nbformat_minor": 2
}
