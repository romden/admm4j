{
 "cells": [
  {
   "cell_type": "markdown",
   "metadata": {},
   "source": [
    "## Linear Programming\n",
    "\n",
    "Here the goal is to show how a constrained problem can be decomposed and solved by ADMM.\n",
    "\n",
    "For this purpose, this notebook considers solving primal and dual linear programming problems."
   ]
  },
  {
   "cell_type": "markdown",
   "metadata": {},
   "source": [
    "### Primal"
   ]
  },
  {
   "cell_type": "markdown",
   "metadata": {},
   "source": [
    "  minimize: $c^T \\; x$\\\n",
    "subject to: $A \\; x = b$\\\n",
    "$\\;\\;\\;\\;\\;\\;\\;\\;\\;\\;\\;\\;\\; x \\ge 0$"
   ]
  },
  {
   "cell_type": "markdown",
   "metadata": {},
   "source": [
    "### Dual"
   ]
  },
  {
   "cell_type": "markdown",
   "metadata": {},
   "source": [
    "  maximize: $b^T \\; y$\\\n",
    "subject to: $A^T \\; y \\ge c$"
   ]
  },
  {
   "cell_type": "markdown",
   "metadata": {},
   "source": [
    "### Duality in Linear Programming"
   ]
  },
  {
   "cell_type": "markdown",
   "metadata": {},
   "source": [
    "$c^T \\; x \\;\\;\\; = \\;\\;\\; b^T \\; y$"
   ]
  },
  {
   "cell_type": "markdown",
   "metadata": {},
   "source": [
    "### Steps\n",
    "\n",
    "1. Devise a computation graph representing the problem as a bipartite graph\n",
    "2. Implement nodes as Java classes extending org.admm4j.core.Node\n",
    "3. Create the JSON input defining the graph\n",
    "4. Execute admm4j\n",
    "5. Import and analyze results"
   ]
  },
  {
   "cell_type": "markdown",
   "metadata": {},
   "source": [
    "### This notebook uses the AFIRO problem from the NETLIB Linear Programming test set\n",
    "\n",
    "This problem has 51 variables, 27 constraints and the optimal objective value of -4.6475314286E+02.\n",
    "\n",
    "http://www.netlib.org/lp/data/readme\n",
    "\n",
    "http://users.clas.ufl.edu/hager/coap/format.html"
   ]
  },
  {
   "cell_type": "markdown",
   "metadata": {},
   "source": [
    "### Step 1. Devise a computation graph representing the problem as a bipartite graph"
   ]
  },
  {
   "cell_type": "markdown",
   "metadata": {},
   "source": [
    "<img src=\"images/objective-constraints.png\" width=\"600\" height=\"600\" style=\"float: center\"/>"
   ]
  },
  {
   "cell_type": "markdown",
   "metadata": {},
   "source": [
    "The objective node solves a linear objective function.\\\n",
    "The constraints are distributed among 4 nodes, with each node treating locally available set of constraints."
   ]
  },
  {
   "cell_type": "markdown",
   "metadata": {},
   "source": [
    "### Step 2. Implement nodes as Java classes extending org.admm4j.core.Node"
   ]
  },
  {
   "cell_type": "markdown",
   "metadata": {},
   "source": [
    "The following classes are implemented\n",
    "\n",
    "1. org.admm4j.demo.common.LinearFunctionNode.java\n",
    "\n",
    "2. org.admm4j.demo.common.ProjectionNode.java"
   ]
  },
  {
   "cell_type": "markdown",
   "metadata": {},
   "source": [
    "### Step 3. Create the JSON input defining the graph\n",
    "\n",
    "The JSON input files can be found in the folder __examples_input__.\\\n",
    "Because real problems often have inputs with many zeros, examples of sparse formulations are also provided.\\\n",
    "Following are the input files for this problem:\\\n",
    "__lp_afiro_primal_input.json__\\\n",
    "__lp_afiro_dual_input.json__\\\n",
    "__lp_sparse_afiro_primal_input.json__\\\n",
    "__lp_sparse_afiro_dual_input.json__"
   ]
  },
  {
   "cell_type": "markdown",
   "metadata": {},
   "source": [
    "### Step 4. Execute admm4j\n",
    "\n",
    "The defined JSON models can be solved by admm4j using command line."
   ]
  },
  {
   "cell_type": "markdown",
   "metadata": {},
   "source": [
    "#### Solve primal problem"
   ]
  },
  {
   "cell_type": "code",
   "execution_count": 14,
   "metadata": {},
   "outputs": [],
   "source": [
    "!java -jar admm4j-demo/target/admm4j-demo-1.0-jar-with-dependencies.jar\\\n",
    "           -input admm4j-demo/examples_input/lp_afiro_primal_input.json\\\n",
    "           -output lp_afiro_primal_output.json"
   ]
  },
  {
   "cell_type": "markdown",
   "metadata": {},
   "source": [
    "#### Solve dual problem"
   ]
  },
  {
   "cell_type": "code",
   "execution_count": 15,
   "metadata": {},
   "outputs": [],
   "source": [
    "!java -jar admm4j-demo/target/admm4j-demo-1.0-jar-with-dependencies.jar\\\n",
    "           -input admm4j-demo/examples_input/lp_afiro_dual_input.json\\\n",
    "           -output lp_afiro_dual_output.json"
   ]
  },
  {
   "cell_type": "markdown",
   "metadata": {},
   "source": [
    "#### Solve primal problem using sparse formulation"
   ]
  },
  {
   "cell_type": "code",
   "execution_count": 16,
   "metadata": {},
   "outputs": [],
   "source": [
    "!java -jar admm4j-demo/target/admm4j-demo-1.0-jar-with-dependencies.jar\\\n",
    "           -input admm4j-demo/examples_input/lp_sparse_afiro_primal_input.json\\\n",
    "           -output lp_sparse_afiro_primal_output.json"
   ]
  },
  {
   "cell_type": "markdown",
   "metadata": {},
   "source": [
    "#### Solve dual problem using sparse formulation"
   ]
  },
  {
   "cell_type": "code",
   "execution_count": 17,
   "metadata": {},
   "outputs": [],
   "source": [
    "!java -jar admm4j-demo/target/admm4j-demo-1.0-jar-with-dependencies.jar\\\n",
    "           -input admm4j-demo/examples_input/lp_sparse_afiro_dual_input.json\\\n",
    "           -output lp_sparse_afiro_dual_output.json"
   ]
  },
  {
   "cell_type": "markdown",
   "metadata": {},
   "source": [
    "### Step 5. Import and analyze results\n",
    "\n",
    "The cell below should be run after running all above cells."
   ]
  },
  {
   "cell_type": "code",
   "execution_count": 21,
   "metadata": {},
   "outputs": [
    {
     "name": "stdout",
     "output_type": "stream",
     "text": [
      "Primal objective value -464.7516256386707\n",
      "Dual objective value 464.3883697513007\n",
      "Sparse primal objective value -464.7516256386707\n",
      "Sparse dual objective value 464.3883697513007\n"
     ]
    }
   ],
   "source": [
    "import json\n",
    "\n",
    "fin = open('lp_afiro_primal_output.json', 'r')\n",
    "res = json.loads(fin.read())\n",
    "fin.close()\n",
    "print('Primal objective value', res.get('nodesI')[0].get('objective'))\n",
    "\n",
    "fin = open('lp_afiro_dual_output.json', 'r')\n",
    "res = json.loads(fin.read())\n",
    "fin.close()\n",
    "print('Dual objective value', res.get('nodesI')[0].get('objective'))\n",
    "\n",
    "fin = open('lp_sparse_afiro_primal_output.json', 'r')\n",
    "res = json.loads(fin.read())\n",
    "fin.close()\n",
    "print('Sparse primal objective value', res.get('nodesI')[0].get('objective'))\n",
    "\n",
    "fin = open('lp_sparse_afiro_dual_output.json', 'r')\n",
    "res = json.loads(fin.read())\n",
    "fin.close()\n",
    "print('Sparse dual objective value', res.get('nodesI')[0].get('objective'))"
   ]
  },
  {
   "cell_type": "markdown",
   "metadata": {},
   "source": [
    "The obtained objective function values are close to the optimal value.\\\n",
    "Positive values for the dual problem are because *max: f(x)* is equivalent to *min -f(x)*."
   ]
  },
  {
   "cell_type": "code",
   "execution_count": null,
   "metadata": {},
   "outputs": [],
   "source": []
  }
 ],
 "metadata": {
  "kernelspec": {
   "display_name": "Python 3",
   "language": "python",
   "name": "python3"
  },
  "language_info": {
   "codemirror_mode": {
    "name": "ipython",
    "version": 3
   },
   "file_extension": ".py",
   "mimetype": "text/x-python",
   "name": "python",
   "nbconvert_exporter": "python",
   "pygments_lexer": "ipython3",
   "version": "3.7.3"
  }
 },
 "nbformat": 4,
 "nbformat_minor": 2
}
